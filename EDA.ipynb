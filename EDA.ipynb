{
 "cells": [
  {
   "cell_type": "code",
   "execution_count": 8,
   "metadata": {},
   "outputs": [],
   "source": [
    "import pandas as pd\n",
    "import seaborn as sns\n",
    "import matplotlib.pyplot as plt"
   ]
  },
  {
   "cell_type": "code",
   "execution_count": 2,
   "metadata": {},
   "outputs": [],
   "source": [
    "data_path = './data'"
   ]
  },
  {
   "cell_type": "code",
   "execution_count": 3,
   "metadata": {},
   "outputs": [],
   "source": [
    "df_ppi = pd.read_csv(f'{data_path}/pro_pro.tsv', sep='\\t')\n",
    "df_ppi_sl = df_ppi[df_ppi['prA'] != df_ppi['prB']]\n",
    "df_ppi_sl = df_ppi_sl.drop_duplicates()\n",
    "df_ppi_sl['pair'] = df_ppi_sl.apply(lambda row: tuple(sorted([row['prA'], row['prB']])), axis=1)\n",
    "df_pro_pro = (\n",
    "    df_ppi_sl\n",
    "    .drop_duplicates(subset='pair')\n",
    "    .drop(columns='pair').reset_index(drop=True)\n",
    ")\n",
    "\n",
    "df_gen_pro = pd.read_csv(f'{data_path}/gen_pro.tsv', sep='\\t')\n",
    "\n",
    "df_dis_gen = pd.read_csv(f'{data_path}/dis_gen.tsv', sep='\\t')\n",
    "df_dis_gen_final = df_dis_gen.drop_duplicates(subset=['disease_name', 'gene_id', 'gene_symbol'])"
   ]
  },
  {
   "cell_type": "code",
   "execution_count": 4,
   "metadata": {},
   "outputs": [
    {
     "name": "stdout",
     "output_type": "stream",
     "text": [
      "pro-pro size with self loops: 439863\n",
      "Unique proteins with self loops: 16927\n",
      "Proteins with self loops interaction: 2224\n",
      "\n",
      "pro-pro size without self loops: 437639\n",
      "Unique proteins without self loops: 16918\n",
      "\n",
      "pro-pro size: 238361\n",
      "Unique proteins: 16918\n"
     ]
    }
   ],
   "source": [
    "print(f'pro-pro size with self loops: {len(df_ppi)}')\n",
    "print(f\"Unique proteins with self loops: {len(pd.concat([df_ppi['prA'], df_ppi['prB']], axis=0).unique())}\")\n",
    "print(f\"Proteins with self loops interaction: {len(df_ppi[df_ppi['prA'] == df_ppi['prB']])}\")\n",
    "\n",
    "print(f'\\npro-pro size without self loops: {len(df_ppi_sl)}')\n",
    "print(f\"Unique proteins without self loops: {len(pd.concat([df_ppi_sl['prA'], df_ppi_sl['prB']], axis=0).unique())}\")\n",
    "\n",
    "print(f'\\npro-pro size: {len(df_pro_pro)}')\n",
    "print(f\"Unique proteins: {len(pd.concat([df_pro_pro['prA'], df_pro_pro['prB']], axis=0).unique())}\")"
   ]
  },
  {
   "cell_type": "code",
   "execution_count": 5,
   "metadata": {},
   "outputs": [
    {
     "name": "stdout",
     "output_type": "stream",
     "text": [
      "gen-pro size: 16460\n",
      "Unique genes: 16289\n",
      "Unique proteins: 16187\n",
      "\n",
      "Genes with more than one protein associated: 171\n",
      "Proteins with more than one gene associated: 273\n"
     ]
    }
   ],
   "source": [
    "print(f'gen-pro size: {len(df_gen_pro)}')\n",
    "print(f\"Unique genes: {len(df_gen_pro['gene_id'].unique())}\")\n",
    "print(f\"Unique proteins: {len(df_gen_pro['protein_id'].unique())}\")\n",
    "\n",
    "print(f\"\\nGenes with more than one protein associated: {len(df_gen_pro[df_gen_pro['gene_id'].duplicated()])}\")\n",
    "print(f\"Proteins with more than one gene associated: {len(df_gen_pro[df_gen_pro['protein_id'].duplicated()])}\")"
   ]
  },
  {
   "cell_type": "code",
   "execution_count": 6,
   "metadata": {},
   "outputs": [
    {
     "name": "stdout",
     "output_type": "stream",
     "text": [
      "dis-gen size with duplicated records: 1045745\n",
      "dis-gen size: 781622\n",
      "Unique diseases: 21775\n",
      "Unique genes: 20163\n"
     ]
    }
   ],
   "source": [
    "print(f'dis-gen size with duplicated records: {len(df_dis_gen)}')\n",
    "print(f'dis-gen size: {len(df_dis_gen_final)}')\n",
    "print(f\"Unique diseases: {len(df_dis_gen_final['disease_name'].unique())}\")\n",
    "print(f\"Unique genes: {len(df_dis_gen_final['gene_id'].unique())}\")"
   ]
  }
 ],
 "metadata": {
  "kernelspec": {
   "display_name": ".venv",
   "language": "python",
   "name": "python3"
  },
  "language_info": {
   "codemirror_mode": {
    "name": "ipython",
    "version": 3
   },
   "file_extension": ".py",
   "mimetype": "text/x-python",
   "name": "python",
   "nbconvert_exporter": "python",
   "pygments_lexer": "ipython3",
   "version": "3.10.13"
  },
  "orig_nbformat": 4
 },
 "nbformat": 4,
 "nbformat_minor": 2
}
